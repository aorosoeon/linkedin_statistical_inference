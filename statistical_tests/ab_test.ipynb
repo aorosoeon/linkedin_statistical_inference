{
 "cells": [
  {
   "cell_type": "markdown",
   "metadata": {},
   "source": [
    "# A/B test"
   ]
  },
  {
   "cell_type": "markdown",
   "metadata": {},
   "source": [
    "<span style=\"color:orange\">**The data here is fictious right now. When the data gathering stage is over, I will plug the actual numbers and see which hypothesis is correct.**</span>"
   ]
  },
  {
   "cell_type": "markdown",
   "metadata": {},
   "source": [
    "Having the code from src work continuosly for 8-9 months on my Raspberry Pi would produce enough data to do some statistical tests. The most obvious choice for the first one is A/B test."
   ]
  },
  {
   "cell_type": "markdown",
   "metadata": {},
   "source": [
    "Now, let's define the design of our experiment:\n",
    "\n",
    "1st variant\n",
    "- Message option - 50%\n",
    "- No message option - 50%\n",
    "- Baseline conversion rate (message) - 15%\n",
    "- Target for no message option - 20%\n",
    "- MDE (lift) - 33%\n",
    "- Significance threshold - 0.05\n",
    "- Minimum sample size - 1840\n",
    "\n",
    "2nd variant\n",
    "- Message option - 50%\n",
    "- No message option - 50%\n",
    "- Baseline conversion rate (message) - 20%\n",
    "- Target for no message option - 25%\n",
    "- MDE (lift) - 25%\n",
    "- Significance threshold - 0.05\n",
    "- Minimum sample size - 2180\n",
    "\n",
    "*since we are currently in data gathering stage we cannot know for sure how many invites will be sent eventually and what the conversion rates will be. so the stuff above is just an approximation of how it would look like. in the end of data gathering, i will plug all the actual numbers here\n",
    "\n",
    "For good enough power in both cases sample size should be 2470 - that's 19 connection requests Monday through Friday for half a year\n",
    "- Power for 1st design - 87-88%\n",
    "- Power for 2nd design - 85-86%\n",
    "\n",
    "Another consideration here is that if I add non premium low activity low connection count profiles the conversion would be probably even less than 15%, but 2470 still seems alright\n",
    "\n",
    "Number of premium profiles for 2470 is 74 (3%, stratified sampling through random choosing of those 74 profiles)"
   ]
  },
  {
   "cell_type": "markdown",
   "metadata": {},
   "source": [
    "Sample size calculators and AB test guides here:\n",
    "- https://www.codecademy.com/paths/data-science-inf/tracks/dsinf-statistics-fundamentals-part-ii/modules/dsinf-experimental-design/lessons/experimental-design/exercises/review\n",
    "- https://www.codecademy.com/paths/data-science-inf/tracks/dsinf-statistics-fundamentals-part-ii/modules/dsinf-experimental-design/lessons/a-b-test-sample-size-calculator/exercises/review"
   ]
  },
  {
   "cell_type": "code",
   "execution_count": 1,
   "metadata": {},
   "outputs": [],
   "source": [
    "import numpy as np\n",
    "import pandas as pd\n",
    "from scipy.stats import chi2_contingency\n",
    "#np.random.seed(42)"
   ]
  },
  {
   "cell_type": "markdown",
   "metadata": {},
   "source": [
    "Variables for the designs below"
   ]
  },
  {
   "cell_type": "code",
   "execution_count": 2,
   "metadata": {},
   "outputs": [],
   "source": [
    "baseline_rate1 = .15\n",
    "mde1 = .33\n",
    "target_rate1 = (1 + mde1) * baseline_rate1\n",
    "\n",
    "baseline_rate2 = .20\n",
    "mde2 = .25\n",
    "target_rate2 = (1 + mde2) * baseline_rate2\n",
    "\n",
    "significance_threshold = .05\n",
    "\n",
    "sample_size = 2470"
   ]
  },
  {
   "cell_type": "markdown",
   "metadata": {},
   "source": [
    "Function for simulation of datasets (testing with this now, later here will be insertion of real values from experiment)"
   ]
  },
  {
   "cell_type": "code",
   "execution_count": 3,
   "metadata": {},
   "outputs": [],
   "source": [
    "def simulate_datasets(baseline_rate, target_rate, sample_size):\n",
    "    sample_with_message = np.random.choice(['yes', 'no'],  size=int(sample_size/2), p=[baseline_rate, 1-baseline_rate])\n",
    "    sample_with_no_message = np.random.choice(['yes', 'no'], size=int(sample_size/2), p=[target_rate, 1-target_rate])\n",
    "    group = ['message']*int(sample_size/2) + ['no_message']*int(sample_size/2)\n",
    "    outcome = list(sample_with_message) + list(sample_with_no_message)\n",
    "    simulated_data = {\"Connection_request\": group, \"Accepted\": outcome}\n",
    "    simulated_data = pd.DataFrame(simulated_data)\n",
    "    return simulated_data\n",
    "\n",
    "dataset1 = simulate_datasets(baseline_rate1, target_rate1, sample_size)\n",
    "dataset2 = simulate_datasets(baseline_rate2, target_rate2, sample_size)"
   ]
  },
  {
   "cell_type": "markdown",
   "metadata": {},
   "source": [
    "Now we can test finding the power"
   ]
  },
  {
   "cell_type": "code",
   "execution_count": 4,
   "metadata": {},
   "outputs": [
    {
     "name": "stdout",
     "output_type": "stream",
     "text": [
      "Power1 is 89.3%\n",
      "Power2 is 83.0%\n"
     ]
    }
   ],
   "source": [
    "def simulate_and_find_power(baseline_rate, target_rate, significance_threshold, sample_size):\n",
    "\n",
    "    results = np.ones(1000, dtype=np.int8)\n",
    "\n",
    "    for i in range(1000):\n",
    "        sample_message = np.random.choice(['yes', 'no'],  size=int(sample_size/2), p=[baseline_rate, 1-baseline_rate])\n",
    "        sample_no_message = np.random.choice(['yes', 'no'], size=int(sample_size/2), p=[target_rate, 1-target_rate])\n",
    "        group = ['message']*int(sample_size/2) + ['no_message']*int(sample_size/2)\n",
    "        outcome = list(sample_message) + list(sample_no_message)\n",
    "        simulated_data = {\"Connection_request\": group, \"Accepted\": outcome}\n",
    "        simulated_data = pd.DataFrame(simulated_data)       \n",
    "\n",
    "        ab_contingency = pd.crosstab(np.array(simulated_data.Connection_request), np.array(simulated_data.Accepted))\n",
    "        chi2, pval, dof, expected = chi2_contingency(ab_contingency)\n",
    "        result = (1 if pval < significance_threshold else 0) #1 is significant, 0 is not significant      \n",
    "        results[i] = result\n",
    "    \n",
    "    proportion = np.count_nonzero(results)/1000\n",
    "    #print(\"Proportion of significant results, in other words, Power of the test: {}%.\".format(proportion*100))\n",
    "    #return f\"Proportion of significant results, in other words, Power of the test: {proportion*100}%.\"\n",
    "    return proportion\n",
    "\n",
    "power1 = simulate_and_find_power(baseline_rate=baseline_rate1, target_rate=target_rate1, significance_threshold=significance_threshold, sample_size=sample_size)\n",
    "power2 = simulate_and_find_power(baseline_rate=baseline_rate2, target_rate=target_rate2, significance_threshold=significance_threshold, sample_size=sample_size)\n",
    "print(f\"Power1 is {round(power1*100, 2)}%\\nPower2 is {round(power2*100, 2)}%\")"
   ]
  },
  {
   "cell_type": "markdown",
   "metadata": {},
   "source": [
    "And the AB test itself is below"
   ]
  },
  {
   "cell_type": "code",
   "execution_count": 5,
   "metadata": {},
   "outputs": [],
   "source": [
    "def do_test(dataset):\n",
    "    ab_contingency = pd.crosstab(np.array(dataset.Connection_request), np.array(dataset.Accepted))\n",
    "    chi2, pval, dof, expected = chi2_contingency(ab_contingency)\n",
    "    print(f\"Chi2 statistic is {chi2}\")\n",
    "    print(f\"p-value is {pval}\")\n",
    "    print(f\"Degrees of freedom: {dof}\")\n",
    "    print(f\"Expected values: \\n{expected}\")\n",
    "#double check prints"
   ]
  },
  {
   "cell_type": "code",
   "execution_count": 6,
   "metadata": {},
   "outputs": [
    {
     "name": "stdout",
     "output_type": "stream",
     "text": [
      "Chi2 statistic is 10.967834708061252\n",
      "p-value is 0.000927070219498056\n",
      "Degrees of freedom: 1\n",
      "Expected values: \n",
      "[[1032.  203.]\n",
      " [1032.  203.]]\n"
     ]
    }
   ],
   "source": [
    "do_test(dataset1)"
   ]
  },
  {
   "cell_type": "code",
   "execution_count": 7,
   "metadata": {},
   "outputs": [
    {
     "name": "stdout",
     "output_type": "stream",
     "text": [
      "Chi2 statistic is 14.910922942396384\n",
      "p-value is 0.0001127085032368192\n",
      "Degrees of freedom: 1\n",
      "Expected values: \n",
      "[[968. 267.]\n",
      " [968. 267.]]\n"
     ]
    }
   ],
   "source": [
    "do_test(dataset2)"
   ]
  }
 ],
 "metadata": {
  "kernelspec": {
   "display_name": "base",
   "language": "python",
   "name": "python3"
  },
  "language_info": {
   "codemirror_mode": {
    "name": "ipython",
    "version": 3
   },
   "file_extension": ".py",
   "mimetype": "text/x-python",
   "name": "python",
   "nbconvert_exporter": "python",
   "pygments_lexer": "ipython3",
   "version": "3.11.5"
  }
 },
 "nbformat": 4,
 "nbformat_minor": 2
}
